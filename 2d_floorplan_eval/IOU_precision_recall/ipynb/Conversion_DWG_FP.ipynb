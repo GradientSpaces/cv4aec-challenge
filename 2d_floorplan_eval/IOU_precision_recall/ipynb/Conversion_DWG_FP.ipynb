{
 "cells": [
  {
   "cell_type": "code",
   "execution_count": null,
   "metadata": {},
   "outputs": [],
   "source": [
    "class Conversion_DWG_FP(object):\n",
    "    \n",
    "    @staticmethod\n",
    "    def cvt_geometry_format_obj2drw(geometry):\n",
    "        '''\n",
    "        geometry format in obj file: [layer_name, point_num, pt1.X, pt1.Y, ... , ptN.X, ptN.y]\n",
    "        geometry format for drawing: [layer_name, endpoint1.X, endpoint1.Y, endpoint2.X, endpoint2.Y]\n",
    "        This function converts from former to latter for obj drawing.\n",
    "        @geometry: result from FileIO_FP.read_geometry_OBJ or from Conversion_DWG_FP.extract_geometry_fromGDB\n",
    "          with flag obj_output set as True\n",
    "        '''\n",
    "        layer_num = len(geometry)\n",
    "        geometry_result = [None] * layer_num\n",
    "        for i in range(layer_num):\n",
    "            tmp_ = []\n",
    "            geometry_result[i] = tmp_\n",
    "\n",
    "        for i in range(layer_num):\n",
    "            struct_num = len(geometry[i])\n",
    "            for j in range(struct_num):\n",
    "                layer_name = geometry[i][j][0]\n",
    "                point_num  = geometry[i][j][1]\n",
    "                for k in range(1, point_num):\n",
    "                    row_ = [layer_name, geometry[i][j][k*2], geometry[i][j][k*2+1],\n",
    "                            geometry[i][j][(k+1)*2], geometry[i][j][(k+1)*2+1]]\n",
    "                    geometry_result[i].append(row_)\n",
    "        return geometry_result\n",
    "    \n",
    "    @staticmethod\n",
    "    def extract_all_points(geometry):\n",
    "        '''\n",
    "        This function extracts all points from geometry for hungarian matching\n",
    "        @geometry: result from FileIO_FP.read_geometry_OBJ or from Conversion_DWG_FP.extract_geometry_fromGDB\n",
    "          with flag obj_output set as True\n",
    "        '''\n",
    "        x_coord = []\n",
    "        y_coord = []\n",
    "        layer_num = len(geometry)\n",
    "        for i in range(layer_num):\n",
    "            struct_num = len(geometry[i])\n",
    "            for j in range(struct_num):\n",
    "                point_num = geometry[i][j][1]\n",
    "                for k in range(1, point_num+1):\n",
    "                    x_coord.append(geometry[i][j][k*2])\n",
    "                    y_coord.append(geometry[i][j][k*2+1])\n",
    "        return x_coord, y_coord"
   ]
  }
 ],
 "metadata": {
  "kernelspec": {
   "display_name": "Python 3",
   "language": "python",
   "name": "python3"
  },
  "language_info": {
   "codemirror_mode": {
    "name": "ipython",
    "version": 3
   },
   "file_extension": ".py",
   "mimetype": "text/x-python",
   "name": "python",
   "nbconvert_exporter": "python",
   "pygments_lexer": "ipython3",
   "version": "3.7.9"
  }
 },
 "nbformat": 4,
 "nbformat_minor": 4
}
